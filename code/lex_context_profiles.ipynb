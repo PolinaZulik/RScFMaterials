{
  "nbformat": 4,
  "nbformat_minor": 0,
  "metadata": {
    "colab": {
      "name": "context_profiles.ipynb",
      "provenance": [],
      "collapsed_sections": []
    },
    "kernelspec": {
      "name": "python3",
      "display_name": "Python 3"
    },
    "language_info": {
      "name": "python"
    }
  },
  "cells": [
    {
      "cell_type": "code",
      "metadata": {
        "id": "vX5qMYWQdiep"
      },
      "source": [
        "import pandas as pd\n",
        "import numpy as np\n",
        "import os"
      ],
      "execution_count": null,
      "outputs": []
    },
    {
      "cell_type": "code",
      "metadata": {
        "colab": {
          "base_uri": "https://localhost:8080/",
          "height": 455
        },
        "id": "Bs2weMABeCcL",
        "outputId": "7e53e9e3-97a2-44e0-e891-6c64f93fbdfe"
      },
      "source": [
        "foo = './drive/MyDrive/rscf/rusidiolect_data/processed_spacy/'\n",
        "kws = pd.read_csv(foo+'kws_fpi_big5.csv', index_col = 0)\n",
        "kws"
      ],
      "execution_count": null,
      "outputs": [
        {
          "output_type": "execute_result",
          "data": {
            "text/html": [
              "<div>\n",
              "<style scoped>\n",
              "    .dataframe tbody tr th:only-of-type {\n",
              "        vertical-align: middle;\n",
              "    }\n",
              "\n",
              "    .dataframe tbody tr th {\n",
              "        vertical-align: top;\n",
              "    }\n",
              "\n",
              "    .dataframe thead th {\n",
              "        text-align: right;\n",
              "    }\n",
              "</style>\n",
              "<table border=\"1\" class=\"dataframe\">\n",
              "  <thead>\n",
              "    <tr style=\"text-align: right;\">\n",
              "      <th></th>\n",
              "      <th>Min</th>\n",
              "    </tr>\n",
              "    <tr>\n",
              "      <th>feature</th>\n",
              "      <th></th>\n",
              "    </tr>\n",
              "  </thead>\n",
              "  <tbody>\n",
              "    <tr>\n",
              "      <th>я_PRON</th>\n",
              "      <td>133</td>\n",
              "    </tr>\n",
              "    <tr>\n",
              "      <th>свой_DET</th>\n",
              "      <td>76</td>\n",
              "    </tr>\n",
              "    <tr>\n",
              "      <th>они_PRON</th>\n",
              "      <td>66</td>\n",
              "    </tr>\n",
              "    <tr>\n",
              "      <th>он_PRON</th>\n",
              "      <td>58</td>\n",
              "    </tr>\n",
              "    <tr>\n",
              "      <th>хотеть_VERB</th>\n",
              "      <td>57</td>\n",
              "    </tr>\n",
              "    <tr>\n",
              "      <th>...</th>\n",
              "      <td>...</td>\n",
              "    </tr>\n",
              "    <tr>\n",
              "      <th>душа_NOUN</th>\n",
              "      <td>7</td>\n",
              "    </tr>\n",
              "    <tr>\n",
              "      <th>счастливый_ADJ</th>\n",
              "      <td>7</td>\n",
              "    </tr>\n",
              "    <tr>\n",
              "      <th>плохой_ADJ</th>\n",
              "      <td>6</td>\n",
              "    </tr>\n",
              "    <tr>\n",
              "      <th>должный_ADJ</th>\n",
              "      <td>6</td>\n",
              "    </tr>\n",
              "    <tr>\n",
              "      <th>переживать_VERB</th>\n",
              "      <td>6</td>\n",
              "    </tr>\n",
              "  </tbody>\n",
              "</table>\n",
              "<p>84 rows × 1 columns</p>\n",
              "</div>"
            ],
            "text/plain": [
              "                 Min\n",
              "feature             \n",
              "я_PRON           133\n",
              "свой_DET          76\n",
              "они_PRON          66\n",
              "он_PRON           58\n",
              "хотеть_VERB       57\n",
              "...              ...\n",
              "душа_NOUN          7\n",
              "счастливый_ADJ     7\n",
              "плохой_ADJ         6\n",
              "должный_ADJ        6\n",
              "переживать_VERB    6\n",
              "\n",
              "[84 rows x 1 columns]"
            ]
          },
          "metadata": {},
          "execution_count": 4
        }
      ]
    },
    {
      "cell_type": "code",
      "metadata": {
        "colab": {
          "base_uri": "https://localhost:8080/"
        },
        "id": "rcOJpoMsNnD_",
        "outputId": "a0ce195a-6d68-4c68-fd6a-0e6c0c65bae6"
      },
      "source": [
        "kwords = [x.split('_') for x in kws[kws.Min > 25].index]\n",
        "kwords"
      ],
      "execution_count": null,
      "outputs": [
        {
          "output_type": "execute_result",
          "data": {
            "text/plain": [
              "[['я', 'PRON'],\n",
              " ['свой', 'DET'],\n",
              " ['они', 'PRON'],\n",
              " ['он', 'PRON'],\n",
              " ['хотеть', 'VERB'],\n",
              " ['время', 'NOUN'],\n",
              " ['человек', 'NOUN'],\n",
              " ['очень', 'ADV'],\n",
              " ['она', 'PRON'],\n",
              " ['думать', 'VERB'],\n",
              " ['мочь', 'VERB'],\n",
              " ['мой', 'DET'],\n",
              " ['мы', 'PRON'],\n",
              " ['жизнь', 'NOUN'],\n",
              " ['потом', 'ADV'],\n",
              " ['знать', 'VERB'],\n",
              " ['первый', 'ADJ'],\n",
              " ['год', 'NOUN'],\n",
              " ['хороший', 'ADJ'],\n",
              " ['еще', 'ADV'],\n",
              " ['произойти', 'VERB'],\n",
              " ['ждать', 'VERB'],\n",
              " ['день', 'NOUN'],\n",
              " ['видеть', 'VERB'],\n",
              " ['жить', 'VERB'],\n",
              " ['ничто', 'PRON']]"
            ]
          },
          "metadata": {},
          "execution_count": 5
        }
      ]
    },
    {
      "cell_type": "code",
      "metadata": {
        "colab": {
          "base_uri": "https://localhost:8080/"
        },
        "id": "1kECjd7Nvs2X",
        "outputId": "d4aaf69c-f16d-4124-b78c-83039c652549"
      },
      "source": [
        "from google.colab import drive\n",
        "drive.mount('/content/drive')"
      ],
      "execution_count": null,
      "outputs": [
        {
          "output_type": "stream",
          "name": "stdout",
          "text": [
            "Mounted at /content/drive\n"
          ]
        }
      ]
    },
    {
      "cell_type": "code",
      "metadata": {
        "id": "7op3aHaDeSCt"
      },
      "source": [
        "def getlinearlexcontexts(df, words, window = [-5, 5], \n",
        "                         lemfilter = [], posfilter = ['PUNCT'], sentborder = False):\n",
        "  res, counts = {}, {}\n",
        "  for i, (w, POS) in enumerate(words):\n",
        "    name = w +'_' + POS\n",
        "    occs = df[(df.Lemma == w) & (df.POS == POS)]\n",
        "    counts[name] = occs.shape[0]\n",
        "    def getborders(idx, sentborder = sentborder):\n",
        "      if sentborder:\n",
        "        punct = df[df.Lemma.isin(['.', '!', '?', '...'])]\n",
        "        leftb = max([0, idx + window[0], punct[punct.index < idx].index.max()+1])\n",
        "        #print([idx + window[1], len(df), punct[punct.index > idx].index.min()])\n",
        "        rightb = min([idx + window[1]+1, len(df), punct[punct.index > idx].index.min()])\n",
        "      else:\n",
        "        leftb = max([0, idx + window[0]])\n",
        "        rightb = min([idx + window[1]+1, len(df)])\n",
        "      return [*range(leftb, idx), *range(idx+1, rightb)]\n",
        "    #lb, rb = getborders(sentborder)\n",
        "    windowsidx = [getborders(idx, sentborder) for idx in occs.index]\n",
        "    #print(windowsidx)\n",
        "    contdf = pd.DataFrame(columns = df.columns)\n",
        "    if windowsidx:\n",
        "      contdf = pd.concat([df.iloc[x] for x in windowsidx])\n",
        "    contdf = contdf[~contdf.Lemma.isin(lemfilter) & ~contdf.POS.isin(posfilter)]\n",
        "    res[name] = contdf[['Lemma', 'POS']].value_counts()\n",
        "    res[name].index = ['_'.join(col).strip() for col in res[name].index.values] \n",
        "    res[name]['count'] = counts[name]\n",
        "    #print(contdf.Lemma)\n",
        "  return res\n",
        "  #np.asarray(windowsidx).flatten()"
      ],
      "execution_count": null,
      "outputs": []
    },
    {
      "cell_type": "code",
      "metadata": {
        "id": "BXrqFabIkyDo"
      },
      "source": [
        "def getconttable(foo, words = [('он', 'PRON'), ('я', 'PRON')], \n",
        "                 resfn = None,\n",
        "                 resfoo = None):\n",
        "  resd = {}\n",
        "  for i, fn in enumerate(os.listdir(foo)):\n",
        "    #print(fn)\n",
        "    df = pd.read_csv(foo+fn)\n",
        "    df.rename(mapper = {'Unnamed: 0':'Position'}, axis = 1, inplace = True)\n",
        "    conts = getlinearlexcontexts(df, words = words)\n",
        "    if resfoo:\n",
        "      resd[fn[:-4]] = conts\n",
        "    else:\n",
        "      resd[fn[:-4]] = pd.concat(conts)\n",
        "    if i%50 == 0:\n",
        "      print(fn, i, 'ready.')\n",
        "  if resfoo:\n",
        "    for w in resd[fn[:-4]].keys():\n",
        "      #print(resd.keys())\n",
        "      res = pd.DataFrame().from_dict({fna : resd[fna][w] for fna in resd.keys()}, \n",
        "                                     orient = 'index')\n",
        "      res.fillna(0).to_csv(resfoo + w + '.tsv', sep = '\\t')\n",
        "  else:\n",
        "    res = pd.DataFrame().from_dict(resd, orient = 'index')\n",
        "    res.fillna(0.0, inplace = True)\n",
        "    res.to_csv(resfn, sep = '\\t')\n",
        "  return res"
      ],
      "execution_count": null,
      "outputs": []
    },
    {
      "cell_type": "code",
      "metadata": {
        "colab": {
          "base_uri": "https://localhost:8080/"
        },
        "id": "hXflPRq-lZzz",
        "outputId": "b796e46f-7728-4c7f-b51f-fb949644fac4"
      },
      "source": [
        "for fo in ['big5_536/', 'fpi_1045/']:\n",
        "  print(fo)\n",
        "  res = getconttable(foo = foo + fo, \n",
        "                   words = kwords, \n",
        "                   resfoo = foo + 'lex_contexts/' + fo)"
      ],
      "execution_count": null,
      "outputs": [
        {
          "output_type": "stream",
          "name": "stdout",
          "text": [
            "big5_536/\n",
            "1RNPВ_25_м_0_описание.csv 0 ready.\n",
            "26RNPВ_22_ж_1_описание.csv 50 ready.\n",
            "51RNPВ_20_ж_1_описание.csv 100 ready.\n",
            "78RNPВ_23_ж_0_повествование.csv 150 ready.\n",
            "104RNPВ_24_ж_1_описание.csv 200 ready.\n",
            "134RNPВ_19_ж_0_повествование.csv 250 ready.\n",
            "160RNPВ_19_м_1_описание.csv 300 ready.\n",
            "188RNPВ_19_м_0_повествование.csv 350 ready.\n",
            "6RP1_23_ж_0_описание.csv 400 ready.\n",
            "32RP1_20_м_0_описание.csv 450 ready.\n",
            "58RP1_20_м_0_описание.csv 500 ready.\n",
            "fpi_1045/\n",
            "34RP2_nan_ж_1_официальный.csv 0 ready.\n",
            "60RP2_nan_ж_0_повествование.csv 50 ready.\n",
            "92RP2_nan_ж_0_повествование.csv 100 ready.\n",
            "120RP2_nan_ж_1_повествование.csv 150 ready.\n",
            "146RP2_nan_м_0_описание.csv 200 ready.\n",
            "171RP2_nan_м_0_описание.csv 250 ready.\n",
            "196RP2_nan_м_0_повествование.csv 300 ready.\n",
            "222RP2_nan_ж_0_повествование.csv 350 ready.\n",
            "248RP2_nan_ж_1_описание.csv 400 ready.\n",
            "273RP2_nan_ж_1_описание.csv 450 ready.\n",
            "299RP2_nan_ж_0_повествование.csv 500 ready.\n",
            "324RP2_nan_ж_1_официальный.csv 550 ready.\n",
            "349RP2_nan_ж_1_официальный.csv 600 ready.\n",
            "377RP2_nan_ж_0_повествование.csv 650 ready.\n",
            "402RP2_nan_ж_0_повествование.csv 700 ready.\n",
            "429RP2_nan_ж_1_официальный.csv 750 ready.\n",
            "455RP2_nan_ж_1_официальный.csv 800 ready.\n",
            "481RP2_nan_ж_0_повествование.csv 850 ready.\n",
            "507RP2_nan_ж_0_повествование.csv 900 ready.\n",
            "532RP2_nan_ж_0_повествование.csv 950 ready.\n",
            "1RP2_nan_ж_0_повествование.csv 1000 ready.\n"
          ]
        }
      ]
    },
    {
      "cell_type": "code",
      "metadata": {
        "colab": {
          "base_uri": "https://localhost:8080/"
        },
        "id": "N29WunxWiOPr",
        "outputId": "89e8a5e9-afe5-4a50-88d6-63ba2aee58f4"
      },
      "source": [
        "%%time\n",
        "res1 = getconttable(foo = './drive/MyDrive/rscf/rusidiolect_data/processed_spacy/fpi_1045/', \n",
        "                    words = [('он', 'PRON'), ('я', 'PRON')], \n",
        "                   resfoo = './drive/MyDrive/rscf/rusidiolect_data/processed_spacy/lex_contexts/fpi_1045/')"
      ],
      "execution_count": null,
      "outputs": [
        {
          "output_type": "stream",
          "name": "stdout",
          "text": [
            "34_nan_ж_1_официальный.csv 0 ready.\n",
            "60_nan_ж_0_повествование.csv 50 ready.\n",
            "92_nan_ж_0_повествование.csv 100 ready.\n",
            "120_nan_ж_1_повествование.csv 150 ready.\n",
            "146_nan_м_0_описание.csv 200 ready.\n",
            "171_nan_м_0_описание.csv 250 ready.\n",
            "196_nan_м_0_повествование.csv 300 ready.\n",
            "222_nan_ж_0_повествование.csv 350 ready.\n",
            "248_nan_ж_1_описание.csv 400 ready.\n",
            "273_nan_ж_1_описание.csv 450 ready.\n",
            "299_nan_ж_0_повествование.csv 500 ready.\n",
            "324_nan_ж_1_официальный.csv 550 ready.\n",
            "349_nan_ж_1_официальный.csv 600 ready.\n",
            "377_nan_ж_0_повествование.csv 650 ready.\n",
            "402_nan_ж_0_повествование.csv 700 ready.\n",
            "429_nan_ж_1_официальный.csv 750 ready.\n",
            "455_nan_ж_1_официальный.csv 800 ready.\n",
            "481_nan_ж_0_повествование.csv 850 ready.\n",
            "507_nan_ж_0_повествование.csv 900 ready.\n",
            "532_nan_ж_0_повествование.csv 950 ready.\n",
            "1_nan_ж_0_повествование.csv 1000 ready.\n",
            "CPU times: user 32.9 s, sys: 1.11 s, total: 34.1 s\n",
            "Wall time: 3min 2s\n"
          ]
        }
      ]
    },
    {
      "cell_type": "code",
      "metadata": {
        "colab": {
          "base_uri": "https://localhost:8080/"
        },
        "id": "bi1hKjIeUMYB",
        "outputId": "96a34990-18e4-4a22-eb7f-7e8a45b4eb95"
      },
      "source": [
        "585*6"
      ],
      "execution_count": null,
      "outputs": [
        {
          "output_type": "execute_result",
          "data": {
            "text/plain": [
              "3510"
            ]
          },
          "metadata": {},
          "execution_count": 21
        }
      ]
    }
  ]
}